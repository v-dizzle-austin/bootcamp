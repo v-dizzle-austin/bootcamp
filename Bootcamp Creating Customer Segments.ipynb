{
 "cells": [
  {
   "cell_type": "markdown",
   "metadata": {},
   "source": [
    "## To begin, let's connect to the Azure SQL Database and query some data."
   ]
  },
  {
   "cell_type": "code",
   "execution_count": 9,
   "metadata": {},
   "outputs": [],
   "source": [
    "import pyodbc\n",
    "import pandas as pd\n",
    "import json\n",
    "\n",
    "# with open('login_creds.json') as f:\n",
    "#     login = json.load(f)\n",
    "\n",
    "# conn_str = (\n",
    "#     r'Driver=SQL Server;' +\n",
    "#     r'Server={};'.format(login['Server']) +\n",
    "#     r'Database={};'.format(login['Database']) + \n",
    "#     'UID={};'.format(login['Username']) +\n",
    "#     'PWD={};'.format(login['Password'])\n",
    "#     )\n",
    "# cnxn = pyodbc.connect(conn_str)"
   ]
  },
  {
   "cell_type": "code",
   "execution_count": 10,
   "metadata": {},
   "outputs": [],
   "source": [
    "# def query_db(query, connection):\n",
    "\n",
    "#     cursor = connection.cursor()\n",
    "#     cursor.execute(query)\n",
    "#     rows = []\n",
    "#     for row in cursor.fetchall():\n",
    "#         rows.append(row)\n",
    "#     columns = [column[0] for column in cursor.description]\n",
    "\n",
    "#     df = pd.DataFrame.from_records(rows, columns = columns)\n",
    "    \n",
    "#     return df"
   ]
  },
  {
   "cell_type": "code",
   "execution_count": 22,
   "metadata": {},
   "outputs": [],
   "source": [
    "# sale = query_db(\"SELECT f.*, d.FullDate FROM FactSales f JOIN DimDate d on d.datekey = f.datekey\", cnxn)\n",
    "# customer = query_db(\"SELECT * FROM DimCustomer\", cnxn)\n",
    "\n",
    "# sale.to_csv('Sales.csv', index = False)\n",
    "# customer.to_csv('DimCustomer.csv', index = False)"
   ]
  },
  {
   "cell_type": "code",
   "execution_count": 26,
   "metadata": {},
   "outputs": [],
   "source": [
    "with open('Sales.csv', errors = 'ignore') as f:\n",
    "    sale = pd.read_csv(f)\n",
    "with open('DimCustomer.csv', errors = 'ignore') as f:\n",
    "    customer = pd.read_csv(f).drop('Unnamed: 0', axis = 1)"
   ]
  },
  {
   "cell_type": "markdown",
   "metadata": {},
   "source": [
    "### Now, the data from these tables is in memory, stored in a dataframe. \n",
    "\n",
    "We can work with this table similarly to how you might work with a table in SQL, but with python and a package called pandas!\n",
    "\n",
    "\n",
    "..."
   ]
  },
  {
   "cell_type": "markdown",
   "metadata": {},
   "source": [
    "## On to the business problem!\n",
    "### Can we use data science and build a model to help us determine how to best segment out customers?\n",
    "\n",
    "First, let's work on manipulating our data so that we can pass information on our customers to a model that will help us create these segments.\n",
    "\n",
    "A common, simple technique to summarize customer purchasing behavior for further analysis (like segmentation) is referred to as RFM- recency, frequency, and magnitude of a customer's purchases. \n",
    "\n",
    "* **Recency:** days since last sale, compared the overall most recent sale across all customers\n",
    "* **Frequency:** count of unique days a sale occurred\n",
    "* **Magnitude:** total sum of sale dollars\n",
    "\n",
    "We can think of RFM as a way to boil down everything we have in the data about a customer's behavior into a few simple, but valuable, pieces of information. We're helping our model down the road by synthesizing this information ahead of time because we as humans with our human expertise know that it'll be important when segmenting our customers. This is a very simple example of **feature engineering**- the process by which humans help models discover what's important in data by applying their domain knowledge to give the model a transformed version of the data!"
   ]
  },
  {
   "cell_type": "code",
   "execution_count": 16,
   "metadata": {},
   "outputs": [],
   "source": [
    "sale['FullDate'] = pd.to_datetime(sale['FullDate'], infer_datetime_format=True) \n",
    "\n",
    "# groupby - looks familiar? :)\n",
    "recency = sale.groupby('CustomerKey')['FullDate'].max().rename('MostRecentPurchase').reset_index()\n",
    "recency['DaysSinceLastPurchase'] =  recency.MostRecentPurchase.max() - recency.MostRecentPurchase\n",
    "recency['DaysSinceLastPurchase'] = recency.DaysSinceLastPurchase.astype(str).str[:2].astype(int)"
   ]
  },
  {
   "cell_type": "code",
   "execution_count": 20,
   "metadata": {
    "scrolled": true
   },
   "outputs": [],
   "source": [
    "frequency = sale.groupby('CustomerKey')['DateKey'].nunique().rename('CountofSales').reset_index()"
   ]
  },
  {
   "cell_type": "code",
   "execution_count": 26,
   "metadata": {},
   "outputs": [],
   "source": [
    "magnitude = sale.groupby('CustomerKey')['TotalSaleAmt'].sum().rename('TotalSaleDollars').astype(float).reset_index()"
   ]
  },
  {
   "cell_type": "code",
   "execution_count": 27,
   "metadata": {},
   "outputs": [],
   "source": [
    "# Logic for buckets based on quantiles of these values\n",
    "# 1 is the worst & 5 is the best\n",
    "recency['DaysSinceLastPurchaseBucket'] = pd.qcut(recency['DaysSinceLastPurchase'], 5, labels=[5, 4, 3, 2, 1])\n",
    "frequency['CountSalesBucket'] = pd.qcut(frequency['CountofSales'], 5, labels=[1, 2, 3, 4, 5])\n",
    "magnitude['TotalSalesBucket'] = pd.qcut(magnitude['TotalSaleDollars'], 5, labels=[1, 2, 3, 4, 5])"
   ]
  },
  {
   "cell_type": "code",
   "execution_count": 29,
   "metadata": {},
   "outputs": [],
   "source": [
    "customer_rfm = recency.merge(frequency).merge(magnitude)"
   ]
  },
  {
   "cell_type": "markdown",
   "metadata": {},
   "source": [
    "From here, we'll try to segment our customers based on these bucketed values of R, F, & M so that we can create actionable groups of similar customers to pass along to our marketing department. \n",
    "\n",
    "What type of problem is this? Classification, regression, or unsupervised?"
   ]
  },
  {
   "cell_type": "markdown",
   "metadata": {},
   "source": [
    ".\n",
    "\n",
    ".\n",
    "\n",
    ".\n",
    "\n",
    ".\n",
    "\n",
    ".\n",
    "\n",
    ".\n",
    "\n",
    ".\n",
    "\n",
    ".\n",
    "\n",
    ".\n",
    "\n",
    ".\n",
    "\n",
    ".\n",
    "\n",
    "### Unsupervised! \n",
    "\n",
    "We aren't comparing against a \"right\" answer here- just looking to explore and find some patterns in our data.\n",
    "\n",
    "\n",
    "### Exploring clustering methods\n",
    "\n",
    "To begin creating customer segments, let's pick a clustering algorithm to try out, and then do some analysis into how many segments we'd like create. Some algorithms pick the number of segments for you as they cluster the data points, and others require you to specify the number of segments you want the algorithm to find ahead of time. \n",
    "\n",
    "Here, we'll try out a K-Means clustering algorithm, which does require you to specify cluster number (n_clusters, below) ahead of time!\n",
    "\n",
    "\n",
    "\n",
    "\n",
    "There are a few factors that can help inform us in selecting n_clusters. One of the main factors is domain knowledge and usability! \n",
    "\n",
    "If I'm a marketing director, would I expect there to be 1,534 distinct segments of customers in my base that I can individually market to? Maybe? If there were, could I reasonably do anything about that? I doubt it! I think I have the mental capacity and budget to keep track of maybe 3-10 segments (for example).\n",
    "\n",
    "Another helpful way to decide the number of clusters is to try fitting the algorithm with a bunch of values of n_clusters, and then compare measurements on the clusters between these values. How tightly knit and well defined are my clusters when I select 2 as the number? How about 3? 4? The goal here is to find the smallest number of clusters that are still reasonably tight-knit. This method is commonly referred to as the **elbow method**! When you plot a measure of tight-knit-ness against the number of clusters, you find a point where you stop making a lot of gains in tight-knit-ness and you're just adding clusters to add clusters. This looks like an elbow in the graph! Where the elbow falls, this number of clusters might be a good idea to try.\n"
   ]
  },
  {
   "cell_type": "code",
   "execution_count": 50,
   "metadata": {},
   "outputs": [
    {
     "data": {
      "image/png": "[encoded data removed]",
      "text/plain": [
       "<Figure size 432x288 with 1 Axes>"
      ]
     },
     "metadata": {
      "needs_background": "light"
     },
     "output_type": "display_data"
    },
    {
     "data": {
      "image/png": "[encoded data removed]",
      "text/plain": [
       "<Figure size 432x288 with 1 Axes>"
      ]
     },
     "metadata": {
      "needs_background": "light"
     },
     "output_type": "display_data"
    }
   ],
   "source": [
    "from sklearn.cluster import KMeans\n",
    "from sklearn import metrics\n",
    "from scipy.spatial.distance import cdist\n",
    "import numpy as np\n",
    "import matplotlib.pyplot as plt\n",
    "\n",
    "X = customer_rfm[['DaysSinceLastPurchaseBucket', 'CountSalesBucket', 'TotalSalesBucket']]\n",
    "\n",
    "distortions = []\n",
    "inertias = []\n",
    "mapping1 = {}\n",
    "mapping2 = {}\n",
    "K = range(1, 10)\n",
    " \n",
    "for k in K:\n",
    "    # Building and fitting the model for the given value of K\n",
    "    kmeanModel = KMeans(n_clusters=k).fit(X)\n",
    "    kmeanModel.fit(X)\n",
    " \n",
    "    distortions.append(sum(np.min(cdist(X, kmeanModel.cluster_centers_,\n",
    "                                        'euclidean'), axis=1)) / X.shape[0])\n",
    "    inertias.append(kmeanModel.inertia_)\n",
    " \n",
    "    mapping1[k] = sum(np.min(cdist(X, kmeanModel.cluster_centers_,\n",
    "                                   'euclidean'), axis=1)) / X.shape[0]\n",
    "    mapping2[k] = kmeanModel.inertia_\n",
    "    \n",
    "plt.plot(K, distortions, 'bx-')\n",
    "plt.xlabel('Values of K')\n",
    "plt.ylabel('Distortion')\n",
    "plt.title('The Elbow Method using Distortion')\n",
    "plt.show()\n",
    "# Distortion: Calculated as the average of the squared distances from the cluster centers of the respective clusters. \n",
    "# Typically, the Euclidean distance metric is used.\n",
    "\n",
    "plt.plot(K, inertias, 'bx-')\n",
    "plt.xlabel('Values of K')\n",
    "plt.ylabel('Inertia')\n",
    "plt.title('The Elbow Method using Inertia')\n",
    "plt.show()\n",
    "# Inertia: Sum of squared distances of samples to their closest cluster center.\n",
    "\n",
    "## Elbow seems to appear around K = 3 or 4 (very very loosely!), indicating these might be a good fit for number of clusters.\n",
    "\n",
    "## Note that our data is largely randomized and they're aren't concrete patterns to discover like in real customer data. \n",
    "# This is just for example's purposes :)"
   ]
  },
  {
   "cell_type": "markdown",
   "metadata": {},
   "source": [
    "### Let's try it out!\n",
    " \n",
    " \n",
    "Let's explore what our clusters look like if we go with 3 clusters, and then 4!\n",
    "\n",
    "We can fit the algorithm, use the fitted model to assign our customer records to clusters, and explore the characteristics of each cluster.\n",
    "\n",
    "Below, we're just defining a simple function that will help us do this exploration- when passed a cluster number and a dataframe with records and cluster assignments, print out the median feature values for the customers that fell into that cluster."
   ]
  },
  {
   "cell_type": "code",
   "execution_count": 43,
   "metadata": {},
   "outputs": [],
   "source": [
    "def print_rfm(cluster_assignment, df):\n",
    "    df = df[df.KMeansClusterAssignment == cluster_assignment]\n",
    "    med_rec = df.DaysSinceLastPurchaseBucket.astype(int).median()\n",
    "    med_rec_val = df['DaysSinceLastPurchase'].astype(int).median()\n",
    "    med_freq = df.CountSalesBucket.astype(int).median()\n",
    "    med_freq_val = df['CountofSales'].astype(int).median()\n",
    "    med_mag = df.TotalSalesBucket.astype(int).median()\n",
    "    med_mag_val = df['TotalSaleDollars'].astype(int).median()\n",
    "    print('Cluster #{}'.format(cluster_assignment))\n",
    "    print('Median Recency Quantile:   {}'.format(med_rec))\n",
    "    print('Median Frequency Quantile: {}'.format(med_freq))\n",
    "    print('Median Magnitude Quantile: {}'.format(med_mag))\n",
    "    \n",
    "    print('Median Recency:   {} days'.format(med_rec_val))\n",
    "    print('Median Frequency: {} purchases'.format(med_freq_val))\n",
    "    print('Median Magnitude: ${:,}'.format(med_mag_val))\n",
    "    print('\\n')"
   ]
  },
  {
   "cell_type": "code",
   "execution_count": 45,
   "metadata": {},
   "outputs": [
    {
     "name": "stdout",
     "output_type": "stream",
     "text": [
      "Cluster #1\n",
      "Median Recency Quantile:   2.0\n",
      "Median Frequency Quantile: 2.0\n",
      "Median Magnitude Quantile: 2.0\n",
      "Median Recency:   13.0 days\n",
      "Median Frequency: 90.0 purchases\n",
      "Median Magnitude: $240,633.0\n",
      "\n",
      "\n",
      "Cluster #2\n",
      "Median Recency Quantile:   5.0\n",
      "Median Frequency Quantile: 2.0\n",
      "Median Magnitude Quantile: 2.0\n",
      "Median Recency:   1.0 days\n",
      "Median Frequency: 94.0 purchases\n",
      "Median Magnitude: $260,550.0\n",
      "\n",
      "\n",
      "Cluster #3\n",
      "Median Recency Quantile:   3.0\n",
      "Median Frequency Quantile: 4.0\n",
      "Median Magnitude Quantile: 4.0\n",
      "Median Recency:   7.0 days\n",
      "Median Frequency: 104.0 purchases\n",
      "Median Magnitude: $306,205.0\n",
      "\n",
      "\n"
     ]
    }
   ],
   "source": [
    "kmeanModel = KMeans(n_clusters=3).fit(X)\n",
    "customer_rfm['KMeansOutput'] = kmeanModel.transform(X).tolist()\n",
    "customer_rfm['KMeansClusterAssignment'] = customer_rfm.KMeansOutput.apply(lambda x: x.index(max(x)) + 1)\n",
    "\n",
    "result = [print_rfm(cluster_assignment = c, df = customer_rfm) for c in [1,2,3]]"
   ]
  },
  {
   "cell_type": "markdown",
   "metadata": {},
   "source": [
    "### Exploring the segments\n",
    "\n",
    "Below, using 4 clusters, we see some distinctions between clusters in terms of the typical recency, frequency, and magnitude of the customers in the cluster. \n",
    "\n",
    "It looks like **cluster #1** is one of the most recent, but has the least frequent and smallest total purchases. This is where we have to step back in and put on our marketing director hats. How might we describe this group of customers? How might we market to them?\n",
    "\n",
    "**Cluster #2** seems pretty middle-of-the-road in all aspects. What might this say about them?\n",
    "\n",
    "How about **cluster #3**? We see high values here across the board. VIP, anyone?\n",
    "\n",
    "And **cluster #4**? High frequency of purchases and high total spend. Big dogs? But they have one of the lowest values for recency for a segment. These might be customer who used to be \"VIP\"s, but have since expired from the customer base or maybe found a different provider to do business with. \n"
   ]
  },
  {
   "cell_type": "code",
   "execution_count": 46,
   "metadata": {},
   "outputs": [
    {
     "name": "stdout",
     "output_type": "stream",
     "text": [
      "Cluster #1\n",
      "Median Recency Quantile:   4.0\n",
      "Median Frequency Quantile: 1.0\n",
      "Median Magnitude Quantile: 1.0\n",
      "Median Recency:   3.0 days\n",
      "Median Frequency: 85.0 purchases\n",
      "Median Magnitude: $223,240.5\n",
      "\n",
      "\n",
      "Cluster #2\n",
      "Median Recency Quantile:   2.0\n",
      "Median Frequency Quantile: 2.0\n",
      "Median Magnitude Quantile: 2.0\n",
      "Median Recency:   14.0 days\n",
      "Median Frequency: 91.0 purchases\n",
      "Median Magnitude: $245,664.0\n",
      "\n",
      "\n",
      "Cluster #3\n",
      "Median Recency Quantile:   4.0\n",
      "Median Frequency Quantile: 4.0\n",
      "Median Magnitude Quantile: 4.0\n",
      "Median Recency:   4.0 days\n",
      "Median Frequency: 102.0 purchases\n",
      "Median Magnitude: $295,305.0\n",
      "\n",
      "\n",
      "Cluster #4\n",
      "Median Recency Quantile:   1.0\n",
      "Median Frequency Quantile: 4.0\n",
      "Median Magnitude Quantile: 4.0\n",
      "Median Recency:   18.0 days\n",
      "Median Frequency: 105.0 purchases\n",
      "Median Magnitude: $305,100.0\n",
      "\n",
      "\n"
     ]
    }
   ],
   "source": [
    "kmeanModel = KMeans(n_clusters=4).fit(X)\n",
    "customer_rfm['KMeansOutput'] = kmeanModel.transform(X).tolist()\n",
    "customer_rfm['KMeansClusterAssignment'] = customer_rfm.KMeansOutput.apply(lambda x: x.index(max(x)) + 1)\n",
    "\n",
    "result = [print_rfm(cluster_assignment = c, df = customer_rfm) for c in [1,2,3,4]]"
   ]
  },
  {
   "cell_type": "markdown",
   "metadata": {},
   "source": [
    "### What's in a name?\n",
    "\n",
    "After exploring the clusters, maybe we can boil down what we've noticed about these groups of customers into some friendly segment names that make it more clear what types of customers fall into each segment, and how these segments seem to have been formed. "
   ]
  },
  {
   "cell_type": "code",
   "execution_count": 47,
   "metadata": {},
   "outputs": [],
   "source": [
    "# Assign basic profile names to clusters\n",
    "\n",
    "customer_rfm['SegmentName'] = ''\n",
    "customer_rfm.loc[customer_rfm.KMeansClusterAssignment == 1, 'SegmentName'] = 'New'\n",
    "customer_rfm.loc[customer_rfm.KMeansClusterAssignment == 2, 'SegmentName'] = 'Potential'\n",
    "customer_rfm.loc[customer_rfm.KMeansClusterAssignment == 3, 'SegmentName'] = 'Loyal'\n",
    "customer_rfm.loc[customer_rfm.KMeansClusterAssignment == 4, 'SegmentName'] = 'At Risk'"
   ]
  },
  {
   "cell_type": "code",
   "execution_count": 49,
   "metadata": {},
   "outputs": [
    {
     "data": {
      "text/plain": [
       "Loyal        42.4%\n",
       "Potential    31.5%\n",
       "At Risk      13.4%\n",
       "New          12.7%\n",
       "Name: SegmentName, dtype: object"
      ]
     },
     "execution_count": 49,
     "metadata": {},
     "output_type": "execute_result"
    }
   ],
   "source": [
    "# Breakdown of customers by cluster\n",
    "((customer_rfm.SegmentName.value_counts() / customer_rfm['CustomerKey'].nunique()) * 100).apply(lambda x: \"{0:.1f}%\".format(x))"
   ]
  },
  {
   "cell_type": "markdown",
   "metadata": {},
   "source": [
    "## Next steps\n",
    "\n",
    "It depends on our stakeholder's requirements and specific use for these segments, but from here, we can imagine that if a marketing director was looking for a succint way to reference groups of customers, target promotional materials, or maybe offer coupons or discounts to a portion of the customer base, we're **on the right track** to empowering them to do so. \n",
    "\n",
    "Maybe they could even use our clustering model and segments to start tracking movement between the segments over time (i.e. Why did 5% of my Loyal customers move to At Risk last month?) or overlaying demographic or geographic information to the segments to understand more about these types of customers. Maybe we could include these features in the clustering and expand on just using RFM, or try out different algorithms, or numbers of segments.\n",
    "\n",
    "We're just scratching the surface!\n",
    "\n",
    "\n",
    "### What's missing here?\n",
    "\n",
    "So we're done, right? Our segments that live in this little notebook are ready to create value for the business? \n",
    "\n",
    "Not quite! We're just scratching the surface when it comes to the analysis and clustering from a technical standpoint, but more importantly, we haven't done anything to actually make these segments available to the people who matter.\n",
    "We've been able to find something valuable in doing this exercise- but we haven't captured anything for the business yet. If we're happy with these, what might we have to do next to actually empower action and allow these segments to be consumed and used by the business?"
   ]
  }
 ],
 "metadata": {
  "kernelspec": {
   "display_name": "Python 3",
   "language": "python",
   "name": "python3"
  },
  "language_info": {
   "codemirror_mode": {
    "name": "ipython",
    "version": 3
   },
   "file_extension": ".py",
   "mimetype": "text/x-python",
   "name": "python",
   "nbconvert_exporter": "python",
   "pygments_lexer": "ipython3",
   "version": "3.8.5"
  }
 },
 "nbformat": 4,
 "nbformat_minor": 4
}
